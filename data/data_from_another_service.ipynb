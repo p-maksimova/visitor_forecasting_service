{
 "cells": [
  {
   "cell_type": "code",
   "execution_count": 1,
   "id": "1919e8eb-cb80-4b76-8c38-a99298fbd45c",
   "metadata": {},
   "outputs": [
    {
     "data": {
      "text/html": [
       "<div>\n",
       "<style scoped>\n",
       "    .dataframe tbody tr th:only-of-type {\n",
       "        vertical-align: middle;\n",
       "    }\n",
       "\n",
       "    .dataframe tbody tr th {\n",
       "        vertical-align: top;\n",
       "    }\n",
       "\n",
       "    .dataframe thead th {\n",
       "        text-align: right;\n",
       "    }\n",
       "</style>\n",
       "<table border=\"1\" class=\"dataframe\">\n",
       "  <thead>\n",
       "    <tr style=\"text-align: right;\">\n",
       "      <th></th>\n",
       "      <th>PatientId</th>\n",
       "      <th>AppointmentID</th>\n",
       "      <th>Gender</th>\n",
       "      <th>ScheduledDay</th>\n",
       "      <th>AppointmentDay</th>\n",
       "      <th>Age</th>\n",
       "      <th>Neighbourhood</th>\n",
       "      <th>Scholarship</th>\n",
       "      <th>Hipertension</th>\n",
       "      <th>Diabetes</th>\n",
       "      <th>Alcoholism</th>\n",
       "      <th>Handcap</th>\n",
       "      <th>SMS_received</th>\n",
       "      <th>Showed_up</th>\n",
       "      <th>Date.diff</th>\n",
       "    </tr>\n",
       "  </thead>\n",
       "  <tbody>\n",
       "    <tr>\n",
       "      <th>0</th>\n",
       "      <td>2.987250e+13</td>\n",
       "      <td>5642903</td>\n",
       "      <td>F</td>\n",
       "      <td>2016-04-29</td>\n",
       "      <td>2016-04-29</td>\n",
       "      <td>62</td>\n",
       "      <td>JARDIM DA PENHA</td>\n",
       "      <td>False</td>\n",
       "      <td>True</td>\n",
       "      <td>False</td>\n",
       "      <td>False</td>\n",
       "      <td>False</td>\n",
       "      <td>False</td>\n",
       "      <td>True</td>\n",
       "      <td>0</td>\n",
       "    </tr>\n",
       "    <tr>\n",
       "      <th>1</th>\n",
       "      <td>5.589978e+14</td>\n",
       "      <td>5642503</td>\n",
       "      <td>M</td>\n",
       "      <td>2016-04-29</td>\n",
       "      <td>2016-04-29</td>\n",
       "      <td>56</td>\n",
       "      <td>JARDIM DA PENHA</td>\n",
       "      <td>False</td>\n",
       "      <td>False</td>\n",
       "      <td>False</td>\n",
       "      <td>False</td>\n",
       "      <td>False</td>\n",
       "      <td>False</td>\n",
       "      <td>True</td>\n",
       "      <td>0</td>\n",
       "    </tr>\n",
       "    <tr>\n",
       "      <th>2</th>\n",
       "      <td>4.262962e+12</td>\n",
       "      <td>5642549</td>\n",
       "      <td>F</td>\n",
       "      <td>2016-04-29</td>\n",
       "      <td>2016-04-29</td>\n",
       "      <td>62</td>\n",
       "      <td>MATA DA PRAIA</td>\n",
       "      <td>False</td>\n",
       "      <td>False</td>\n",
       "      <td>False</td>\n",
       "      <td>False</td>\n",
       "      <td>False</td>\n",
       "      <td>False</td>\n",
       "      <td>True</td>\n",
       "      <td>0</td>\n",
       "    </tr>\n",
       "    <tr>\n",
       "      <th>3</th>\n",
       "      <td>8.679512e+11</td>\n",
       "      <td>5642828</td>\n",
       "      <td>F</td>\n",
       "      <td>2016-04-29</td>\n",
       "      <td>2016-04-29</td>\n",
       "      <td>8</td>\n",
       "      <td>PONTAL DE CAMBURI</td>\n",
       "      <td>False</td>\n",
       "      <td>False</td>\n",
       "      <td>False</td>\n",
       "      <td>False</td>\n",
       "      <td>False</td>\n",
       "      <td>False</td>\n",
       "      <td>True</td>\n",
       "      <td>0</td>\n",
       "    </tr>\n",
       "    <tr>\n",
       "      <th>4</th>\n",
       "      <td>8.841186e+12</td>\n",
       "      <td>5642494</td>\n",
       "      <td>F</td>\n",
       "      <td>2016-04-29</td>\n",
       "      <td>2016-04-29</td>\n",
       "      <td>56</td>\n",
       "      <td>JARDIM DA PENHA</td>\n",
       "      <td>False</td>\n",
       "      <td>True</td>\n",
       "      <td>True</td>\n",
       "      <td>False</td>\n",
       "      <td>False</td>\n",
       "      <td>False</td>\n",
       "      <td>True</td>\n",
       "      <td>0</td>\n",
       "    </tr>\n",
       "  </tbody>\n",
       "</table>\n",
       "</div>"
      ],
      "text/plain": [
       "      PatientId  AppointmentID Gender ScheduledDay AppointmentDay  Age  \\\n",
       "0  2.987250e+13        5642903      F   2016-04-29     2016-04-29   62   \n",
       "1  5.589978e+14        5642503      M   2016-04-29     2016-04-29   56   \n",
       "2  4.262962e+12        5642549      F   2016-04-29     2016-04-29   62   \n",
       "3  8.679512e+11        5642828      F   2016-04-29     2016-04-29    8   \n",
       "4  8.841186e+12        5642494      F   2016-04-29     2016-04-29   56   \n",
       "\n",
       "       Neighbourhood  Scholarship  Hipertension  Diabetes  Alcoholism  \\\n",
       "0    JARDIM DA PENHA        False          True     False       False   \n",
       "1    JARDIM DA PENHA        False         False     False       False   \n",
       "2      MATA DA PRAIA        False         False     False       False   \n",
       "3  PONTAL DE CAMBURI        False         False     False       False   \n",
       "4    JARDIM DA PENHA        False          True      True       False   \n",
       "\n",
       "   Handcap  SMS_received  Showed_up  Date.diff  \n",
       "0    False         False       True          0  \n",
       "1    False         False       True          0  \n",
       "2    False         False       True          0  \n",
       "3    False         False       True          0  \n",
       "4    False         False       True          0  "
      ]
     },
     "execution_count": 1,
     "metadata": {},
     "output_type": "execute_result"
    }
   ],
   "source": [
    "import pandas as pd\n",
    "\n",
    "input_file = 'healthcare_noshows_appt.csv'\n",
    "\n",
    "# Чтение CSV файла в DataFrame.\n",
    "df = pd.read_csv(input_file)\n",
    "df.head()"
   ]
  },
  {
   "cell_type": "code",
   "execution_count": 2,
   "id": "f9e4c774-6cb3-4c5c-b2af-f458a8d86361",
   "metadata": {},
   "outputs": [],
   "source": [
    "# Отсортируем по дате приема\n",
    "df = df.sort_values(by='AppointmentDay')"
   ]
  },
  {
   "cell_type": "code",
   "execution_count": 3,
   "id": "bc2e97e6-c52d-447f-bb6e-4f99b2ac411d",
   "metadata": {},
   "outputs": [],
   "source": [
    "# Определим долю неявок для каждого пациента за время, предшествующее текущему приему\n",
    "df['no_show'] = ~df['Showed_up']\n",
    "df['no_show_cumsum'] = df.groupby('PatientId')['no_show'].cumsum() - df['no_show']\n",
    "df['Appointment_cumcount'] = df.groupby('PatientId').cumcount()\n",
    "df['no_show_ratio'] = df['no_show_cumsum'] / df['Appointment_cumcount'] * 100"
   ]
  },
  {
   "cell_type": "code",
   "execution_count": 4,
   "id": "0507c487-f324-4c74-b05b-bf6a8bea7e16",
   "metadata": {},
   "outputs": [],
   "source": [
    "df['no_show_ratio'] = df['no_show_ratio'].fillna(0)"
   ]
  },
  {
   "cell_type": "code",
   "execution_count": 5,
   "id": "111ee51c-be0b-4623-ad32-425d1efae13c",
   "metadata": {},
   "outputs": [
    {
     "name": "stdout",
     "output_type": "stream",
     "text": [
      "<class 'pandas.core.frame.DataFrame'>\n",
      "Index: 106987 entries, 0 to 99545\n",
      "Data columns (total 19 columns):\n",
      " #   Column                Non-Null Count   Dtype  \n",
      "---  ------                --------------   -----  \n",
      " 0   PatientId             106987 non-null  float64\n",
      " 1   AppointmentID         106987 non-null  int64  \n",
      " 2   Gender                106987 non-null  object \n",
      " 3   ScheduledDay          106987 non-null  object \n",
      " 4   AppointmentDay        106987 non-null  object \n",
      " 5   Age                   106987 non-null  int64  \n",
      " 6   Neighbourhood         106987 non-null  object \n",
      " 7   Scholarship           106987 non-null  bool   \n",
      " 8   Hipertension          106987 non-null  bool   \n",
      " 9   Diabetes              106987 non-null  bool   \n",
      " 10  Alcoholism            106987 non-null  bool   \n",
      " 11  Handcap               106987 non-null  bool   \n",
      " 12  SMS_received          106987 non-null  bool   \n",
      " 13  Showed_up             106987 non-null  bool   \n",
      " 14  Date.diff             106987 non-null  int64  \n",
      " 15  no_show               106987 non-null  bool   \n",
      " 16  no_show_cumsum        106987 non-null  int64  \n",
      " 17  Appointment_cumcount  106987 non-null  int64  \n",
      " 18  no_show_ratio         106987 non-null  float64\n",
      "dtypes: bool(8), float64(2), int64(5), object(4)\n",
      "memory usage: 10.6+ MB\n"
     ]
    }
   ],
   "source": [
    "df.info()"
   ]
  },
  {
   "cell_type": "markdown",
   "id": "995e4ec7-4a1f-4790-b38e-56db3a2fe2cb",
   "metadata": {},
   "source": [
    "### Посещения"
   ]
  },
  {
   "cell_type": "code",
   "execution_count": 8,
   "id": "1d9dc666-82b4-4930-a229-3e0157952561",
   "metadata": {},
   "outputs": [],
   "source": [
    "df_appointment = df[['PatientId', 'AppointmentID', \n",
    "                     'ScheduledDay', 'AppointmentDay']]"
   ]
  },
  {
   "cell_type": "code",
   "execution_count": 9,
   "id": "a185b68b-3ce2-4677-a48f-122740c08a73",
   "metadata": {},
   "outputs": [],
   "source": [
    "df_appointment.columns = ['patient_id', 'appointment_id', 'scheduled_date', 'appointment_date']"
   ]
  },
  {
   "cell_type": "code",
   "execution_count": 10,
   "id": "b8175e45-76af-487d-9f6b-71cb9fb29862",
   "metadata": {},
   "outputs": [],
   "source": [
    "df_appointment = df_appointment.iloc[:50, :]"
   ]
  },
  {
   "cell_type": "code",
   "execution_count": 11,
   "id": "c75dd4b5-a4e2-4c77-a63f-9c3f224cffae",
   "metadata": {},
   "outputs": [],
   "source": [
    "doctor_names = [\"Иванов А.В.\", \"Смирнов О.П.\", \"Петров И.М.\", \"Соколов Д.Н.\", \"Васильев Е.С.\"] * 10\n",
    "slots = [num for num in range(1, 11) for _ in range(5)]"
   ]
  },
  {
   "cell_type": "code",
   "execution_count": 12,
   "id": "cd763d9f-c651-4673-8679-bc1bf521a8e0",
   "metadata": {},
   "outputs": [],
   "source": [
    "df_appointment['doctor_name'] = doctor_names\n",
    "df_appointment['slot_id'] = slots"
   ]
  },
  {
   "cell_type": "code",
   "execution_count": 13,
   "id": "1110f1d6-8039-4816-ac54-01b7085ffeb5",
   "metadata": {},
   "outputs": [
    {
     "name": "stdout",
     "output_type": "stream",
     "text": [
      "<class 'pandas.core.frame.DataFrame'>\n",
      "Index: 50 entries, 0 to 2112\n",
      "Data columns (total 6 columns):\n",
      " #   Column            Non-Null Count  Dtype  \n",
      "---  ------            --------------  -----  \n",
      " 0   patient_id        50 non-null     float64\n",
      " 1   appointment_id    50 non-null     int64  \n",
      " 2   scheduled_date    50 non-null     object \n",
      " 3   appointment_date  50 non-null     object \n",
      " 4   doctor_name       50 non-null     object \n",
      " 5   slot_id           50 non-null     int64  \n",
      "dtypes: float64(1), int64(2), object(3)\n",
      "memory usage: 2.7+ KB\n"
     ]
    }
   ],
   "source": [
    "df_appointment.info()"
   ]
  },
  {
   "cell_type": "code",
   "execution_count": 14,
   "id": "c7ed4f01-5315-4e49-8b25-854fe01bb8c8",
   "metadata": {},
   "outputs": [],
   "source": [
    "df_appointment.to_csv(\"Appointments.csv\", index=False)"
   ]
  },
  {
   "cell_type": "markdown",
   "id": "0cfdb78a-9965-480a-b537-8f491c98a4d9",
   "metadata": {},
   "source": [
    "### Пациенты"
   ]
  },
  {
   "cell_type": "code",
   "execution_count": 15,
   "id": "2e24697a-c9e2-4939-b31d-d3e871adc524",
   "metadata": {},
   "outputs": [],
   "source": [
    "df_patient = df.drop_duplicates(subset='PatientId', keep='last')"
   ]
  },
  {
   "cell_type": "code",
   "execution_count": 16,
   "id": "fea50190-b761-44db-b306-6b11debc232f",
   "metadata": {},
   "outputs": [],
   "source": [
    "df_patient = df_patient.drop(columns=['AppointmentID', 'Showed_up', 'no_show', \n",
    "                                      'Date.diff', 'AppointmentDay', 'ScheduledDay'])"
   ]
  },
  {
   "cell_type": "code",
   "execution_count": 18,
   "id": "f0d8812d-04d9-4d3c-a7db-7c0c2949d703",
   "metadata": {},
   "outputs": [],
   "source": [
    "df_patient.columns = ['patient_id', 'gender', 'age', 'neighbourhood',\n",
    "                      'scholarship', 'hipertension', 'diabetes', \n",
    "                      'alcoholism', 'handcap', 'sms_received', \n",
    "                      'no_show_cumsum', 'appointment_cumcount', 'no_show_ratio']"
   ]
  },
  {
   "cell_type": "code",
   "execution_count": 19,
   "id": "5a6807c9-ad99-49d3-bdf8-d22d524b6bdc",
   "metadata": {},
   "outputs": [
    {
     "name": "stdout",
     "output_type": "stream",
     "text": [
      "<class 'pandas.core.frame.DataFrame'>\n",
      "Index: 60270 entries, 2066 to 99545\n",
      "Data columns (total 13 columns):\n",
      " #   Column                Non-Null Count  Dtype  \n",
      "---  ------                --------------  -----  \n",
      " 0   patient_id            60270 non-null  float64\n",
      " 1   gender                60270 non-null  object \n",
      " 2   age                   60270 non-null  int64  \n",
      " 3   neighbourhood         60270 non-null  object \n",
      " 4   scholarship           60270 non-null  bool   \n",
      " 5   hipertension          60270 non-null  bool   \n",
      " 6   diabetes              60270 non-null  bool   \n",
      " 7   alcoholism            60270 non-null  bool   \n",
      " 8   handcap               60270 non-null  bool   \n",
      " 9   sms_received          60270 non-null  bool   \n",
      " 10  no_show_cumsum        60270 non-null  int64  \n",
      " 11  appointment_cumcount  60270 non-null  int64  \n",
      " 12  no_show_ratio         60270 non-null  float64\n",
      "dtypes: bool(6), float64(2), int64(3), object(2)\n",
      "memory usage: 4.0+ MB\n"
     ]
    }
   ],
   "source": [
    "df_patient.info()"
   ]
  },
  {
   "cell_type": "code",
   "execution_count": 20,
   "id": "260fa755-4b35-463b-9b12-11c993c27f96",
   "metadata": {},
   "outputs": [],
   "source": [
    "df_patient.to_csv(\"Patients.csv\", index=False)"
   ]
  },
  {
   "cell_type": "code",
   "execution_count": null,
   "id": "140c87bb-ad28-4fd4-9961-4aecaba994f0",
   "metadata": {},
   "outputs": [],
   "source": []
  }
 ],
 "metadata": {
  "kernelspec": {
   "display_name": "Python 3 (ipykernel)",
   "language": "python",
   "name": "python3"
  },
  "language_info": {
   "codemirror_mode": {
    "name": "ipython",
    "version": 3
   },
   "file_extension": ".py",
   "mimetype": "text/x-python",
   "name": "python",
   "nbconvert_exporter": "python",
   "pygments_lexer": "ipython3",
   "version": "3.12.3"
  }
 },
 "nbformat": 4,
 "nbformat_minor": 5
}
